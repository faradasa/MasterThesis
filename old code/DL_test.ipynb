{
 "cells": [
  {
   "cell_type": "markdown",
   "metadata": {},
   "source": [
    "# 선형회귀 모델"
   ]
  },
  {
   "cell_type": "code",
   "execution_count": 14,
   "metadata": {},
   "outputs": [],
   "source": [
    "import numpy as np\n",
    "from sklearn.metrics import mean_squared_error\n",
    "import random\n",
    "import matplotlib.pyplot as plt"
   ]
  },
  {
   "cell_type": "code",
   "execution_count": 2,
   "metadata": {},
   "outputs": [],
   "source": [
    "# 데이터 셋 생성\n",
    "x_train = np.random.random((1000, 1))\n",
    "y_train = x_train * 2 + np.random.random((1000, 1)) / 3.0\n",
    "x_test = np.random.random((100, 1))\n",
    "y_test = x_test * 2 + np.random.random((100, 1)) / 3.0\n",
    "\n",
    "x_train = x_train.reshape(1000,)\n",
    "y_train = y_train.reshape(1000,)\n",
    "x_test = x_test.reshape(100,)\n",
    "y_test = y_test.reshape(100,)"
   ]
  },
  {
   "cell_type": "code",
   "execution_count": 3,
   "metadata": {},
   "outputs": [],
   "source": [
    "w = np.cov(x_train, y_train, bias=1)[0,1] / np.var(x_train)\n",
    "b = np.average(y_train) - w * np.average(x_train)"
   ]
  },
  {
   "cell_type": "code",
   "execution_count": 8,
   "metadata": {},
   "outputs": [
    {
     "name": "stdout",
     "output_type": "stream",
     "text": [
      "2.002657904769095 0.17404570129939145\n"
     ]
    }
   ],
   "source": [
    "print (w,b)"
   ]
  },
  {
   "cell_type": "code",
   "execution_count": 17,
   "metadata": {},
   "outputs": [
    {
     "name": "stdout",
     "output_type": "stream",
     "text": [
      "mse : 0.00857564733648479\n"
     ]
    }
   ],
   "source": [
    "y_predict = w * x_test + b\n",
    "mse = mean_squared_error(y_test, y_predict)\n",
    "print('mse : ' + str(mse))"
   ]
  },
  {
   "cell_type": "code",
   "execution_count": 24,
   "metadata": {},
   "outputs": [
    {
     "data": {
      "text/plain": [
       "[<matplotlib.lines.Line2D at 0x17fc23d9e48>]"
      ]
     },
     "execution_count": 24,
     "metadata": {},
     "output_type": "execute_result"
    },
    {
     "data": {
      "image/png": "[encoded data removed]",
      "text/plain": [
       "<Figure size 432x288 with 1 Axes>"
      ]
     },
     "metadata": {},
     "output_type": "display_data"
    }
   ],
   "source": [
    "plt.scatter(x_train,y_train,color = \"blue\")\n",
    "plt.scatter(x_test,y_test,color='red')\n",
    "plt.plot(x_test,y_predict)\n",
    "plt.plot(x_test,predict)"
   ]
  },
  {
   "cell_type": "markdown",
   "metadata": {},
   "source": [
    "# 깊은 다층퍼셉트론 신경망 모델"
   ]
  },
  {
   "cell_type": "code",
   "execution_count": 10,
   "metadata": {},
   "outputs": [
    {
     "name": "stderr",
     "output_type": "stream",
     "text": [
      "C:\\Users\\faradasa\\Anaconda3\\lib\\site-packages\\h5py\\__init__.py:36: FutureWarning: Conversion of the second argument of issubdtype from `float` to `np.floating` is deprecated. In future, it will be treated as `np.float64 == np.dtype(float).type`.\n",
      "  from ._conv import register_converters as _register_converters\n",
      "Using TensorFlow backend.\n"
     ]
    }
   ],
   "source": [
    "from keras.models import Sequential\n",
    "from keras.layers import Dense"
   ]
  },
  {
   "cell_type": "code",
   "execution_count": 11,
   "metadata": {},
   "outputs": [],
   "source": [
    "model = Sequential()\n",
    "model.add(Dense(64, input_dim=1, activation='relu'))\n",
    "model.add(Dense(64, activation='relu'))\n",
    "model.add(Dense(1))"
   ]
  },
  {
   "cell_type": "code",
   "execution_count": 12,
   "metadata": {},
   "outputs": [],
   "source": [
    "model.compile(optimizer='rmsprop', loss='mse')"
   ]
  },
  {
   "cell_type": "code",
   "execution_count": 13,
   "metadata": {},
   "outputs": [
    {
     "name": "stdout",
     "output_type": "stream",
     "text": [
      "Epoch 1/50\n",
      "1000/1000 [==============================] - 0s 156us/step - loss: 0.6224\n",
      "Epoch 2/50\n",
      "1000/1000 [==============================] - 0s 12us/step - loss: 0.0784\n",
      "Epoch 3/50\n",
      "1000/1000 [==============================] - 0s 12us/step - loss: 0.0221\n",
      "Epoch 4/50\n",
      "1000/1000 [==============================] - 0s 13us/step - loss: 0.0152\n",
      "Epoch 5/50\n",
      "1000/1000 [==============================] - 0s 13us/step - loss: 0.0110\n",
      "Epoch 6/50\n",
      "1000/1000 [==============================] - 0s 12us/step - loss: 0.0102\n",
      "Epoch 7/50\n",
      "1000/1000 [==============================] - 0s 12us/step - loss: 0.0104\n",
      "Epoch 8/50\n",
      "1000/1000 [==============================] - 0s 11us/step - loss: 0.0104\n",
      "Epoch 9/50\n",
      "1000/1000 [==============================] - 0s 13us/step - loss: 0.0105\n",
      "Epoch 10/50\n",
      "1000/1000 [==============================] - 0s 13us/step - loss: 0.0101\n",
      "Epoch 11/50\n",
      "1000/1000 [==============================] - 0s 13us/step - loss: 0.0102\n",
      "Epoch 12/50\n",
      "1000/1000 [==============================] - 0s 13us/step - loss: 0.0100\n",
      "Epoch 13/50\n",
      "1000/1000 [==============================] - 0s 12us/step - loss: 0.0106\n",
      "Epoch 14/50\n",
      "1000/1000 [==============================] - 0s 13us/step - loss: 0.0100\n",
      "Epoch 15/50\n",
      "1000/1000 [==============================] - 0s 12us/step - loss: 0.0101\n",
      "Epoch 16/50\n",
      "1000/1000 [==============================] - 0s 12us/step - loss: 0.0104\n",
      "Epoch 17/50\n",
      "1000/1000 [==============================] - 0s 12us/step - loss: 0.0101\n",
      "Epoch 18/50\n",
      "1000/1000 [==============================] - 0s 12us/step - loss: 0.0107\n",
      "Epoch 19/50\n",
      "1000/1000 [==============================] - 0s 13us/step - loss: 0.0104\n",
      "Epoch 20/50\n",
      "1000/1000 [==============================] - 0s 13us/step - loss: 0.0099\n",
      "Epoch 21/50\n",
      "1000/1000 [==============================] - 0s 12us/step - loss: 0.0105\n",
      "Epoch 22/50\n",
      "1000/1000 [==============================] - 0s 12us/step - loss: 0.0103\n",
      "Epoch 23/50\n",
      "1000/1000 [==============================] - 0s 13us/step - loss: 0.0099\n",
      "Epoch 24/50\n",
      "1000/1000 [==============================] - 0s 12us/step - loss: 0.0104\n",
      "Epoch 25/50\n",
      "1000/1000 [==============================] - 0s 12us/step - loss: 0.0102\n",
      "Epoch 26/50\n",
      "1000/1000 [==============================] - 0s 12us/step - loss: 0.0100\n",
      "Epoch 27/50\n",
      "1000/1000 [==============================] - 0s 12us/step - loss: 0.0100\n",
      "Epoch 28/50\n",
      "1000/1000 [==============================] - 0s 12us/step - loss: 0.0103\n",
      "Epoch 29/50\n",
      "1000/1000 [==============================] - 0s 12us/step - loss: 0.0101\n",
      "Epoch 30/50\n",
      "1000/1000 [==============================] - 0s 12us/step - loss: 0.0104\n",
      "Epoch 31/50\n",
      "1000/1000 [==============================] - 0s 12us/step - loss: 0.0104\n",
      "Epoch 32/50\n",
      "1000/1000 [==============================] - 0s 12us/step - loss: 0.0105\n",
      "Epoch 33/50\n",
      "1000/1000 [==============================] - 0s 12us/step - loss: 0.0100\n",
      "Epoch 34/50\n",
      "1000/1000 [==============================] - 0s 12us/step - loss: 0.0104\n",
      "Epoch 35/50\n",
      "1000/1000 [==============================] - 0s 13us/step - loss: 0.0100\n",
      "Epoch 36/50\n",
      "1000/1000 [==============================] - 0s 13us/step - loss: 0.0103\n",
      "Epoch 37/50\n",
      "1000/1000 [==============================] - 0s 13us/step - loss: 0.0103\n",
      "Epoch 38/50\n",
      "1000/1000 [==============================] - 0s 12us/step - loss: 0.0105\n",
      "Epoch 39/50\n",
      "1000/1000 [==============================] - 0s 11us/step - loss: 0.0101\n",
      "Epoch 40/50\n",
      "1000/1000 [==============================] - 0s 11us/step - loss: 0.0106\n",
      "Epoch 41/50\n",
      "1000/1000 [==============================] - 0s 13us/step - loss: 0.0102\n",
      "Epoch 42/50\n",
      "1000/1000 [==============================] - 0s 13us/step - loss: 0.0100\n",
      "Epoch 43/50\n",
      "1000/1000 [==============================] - 0s 15us/step - loss: 0.0100\n",
      "Epoch 44/50\n",
      "1000/1000 [==============================] - 0s 14us/step - loss: 0.0100\n",
      "Epoch 45/50\n",
      "1000/1000 [==============================] - 0s 14us/step - loss: 0.0104\n",
      "Epoch 46/50\n",
      "1000/1000 [==============================] - 0s 15us/step - loss: 0.0099\n",
      "Epoch 47/50\n",
      "1000/1000 [==============================] - 0s 13us/step - loss: 0.0100\n",
      "Epoch 48/50\n",
      "1000/1000 [==============================] - 0s 12us/step - loss: 0.0102\n",
      "Epoch 49/50\n",
      "1000/1000 [==============================] - 0s 13us/step - loss: 0.0102\n",
      "Epoch 50/50\n",
      "1000/1000 [==============================] - 0s 12us/step - loss: 0.0104\n"
     ]
    }
   ],
   "source": [
    "hist = model.fit(x_train, y_train, epochs=50, batch_size=64)"
   ]
  },
  {
   "cell_type": "code",
   "execution_count": 15,
   "metadata": {},
   "outputs": [
    {
     "data": {
      "image/png": "[encoded data removed]",
      "text/plain": [
       "<Figure size 432x288 with 1 Axes>"
      ]
     },
     "metadata": {},
     "output_type": "display_data"
    }
   ],
   "source": [
    "plt.plot(hist.history['loss'])\n",
    "plt.ylim(0.0, 1.5)\n",
    "plt.ylabel('loss')\n",
    "plt.xlabel('epoch')\n",
    "plt.legend(['train'], loc='upper left')\n",
    "plt.show()"
   ]
  },
  {
   "cell_type": "code",
   "execution_count": 16,
   "metadata": {},
   "outputs": [
    {
     "name": "stdout",
     "output_type": "stream",
     "text": [
      "100/100 [==============================] - 0s 240us/step\n",
      "loss : 0.009396561291068792\n"
     ]
    }
   ],
   "source": [
    "loss = model.evaluate(x_test, y_test, batch_size=32)\n",
    "print('loss : ' + str(loss))"
   ]
  },
  {
   "cell_type": "code",
   "execution_count": 22,
   "metadata": {},
   "outputs": [],
   "source": [
    "predict = model.predict(x_test)"
   ]
  },
  {
   "cell_type": "code",
   "execution_count": null,
   "metadata": {},
   "outputs": [],
   "source": []
  }
 ],
 "metadata": {
  "kernelspec": {
   "display_name": "Python 3",
   "language": "python",
   "name": "python3"
  },
  "language_info": {
   "codemirror_mode": {
    "name": "ipython",
    "version": 3
   },
   "file_extension": ".py",
   "mimetype": "text/x-python",
   "name": "python",
   "nbconvert_exporter": "python",
   "pygments_lexer": "ipython3",
   "version": "3.6.4"
  }
 },
 "nbformat": 4,
 "nbformat_minor": 2
}
