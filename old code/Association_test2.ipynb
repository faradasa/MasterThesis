{
 "cells": [
  {
   "cell_type": "code",
   "execution_count": 6,
   "metadata": {},
   "outputs": [],
   "source": [
    "from apyori import apriori\n",
    "import pyfpgrowth\n",
    "import numpy as np\n",
    "import pandas as pd\n",
    "import csv\n",
    "from matplotlib import pyplot as plt"
   ]
  },
  {
   "cell_type": "code",
   "execution_count": 2,
   "metadata": {},
   "outputs": [],
   "source": [
    "transactions = [[1, 2, 5],\n",
    "                [2, 4],\n",
    "                [2, 3],\n",
    "                [1, 2, 4],\n",
    "                [1, 3],\n",
    "                [2, 3],\n",
    "                [1, 3],\n",
    "                [1, 2, 3, 5],\n",
    "                [1, 2, 3]]"
   ]
  },
  {
   "cell_type": "code",
   "execution_count": 3,
   "metadata": {},
   "outputs": [],
   "source": [
    "results = list(apriori(transactions))"
   ]
  },
  {
   "cell_type": "code",
   "execution_count": 4,
   "metadata": {},
   "outputs": [
    {
     "data": {
      "text/plain": [
       "[RelationRecord(items=frozenset({1}), support=0.6666666666666666, ordered_statistics=[OrderedStatistic(items_base=frozenset(), items_add=frozenset({1}), confidence=0.6666666666666666, lift=1.0)]),\n",
       " RelationRecord(items=frozenset({2}), support=0.7777777777777778, ordered_statistics=[OrderedStatistic(items_base=frozenset(), items_add=frozenset({2}), confidence=0.7777777777777778, lift=1.0)]),\n",
       " RelationRecord(items=frozenset({3}), support=0.6666666666666666, ordered_statistics=[OrderedStatistic(items_base=frozenset(), items_add=frozenset({3}), confidence=0.6666666666666666, lift=1.0)]),\n",
       " RelationRecord(items=frozenset({4}), support=0.2222222222222222, ordered_statistics=[OrderedStatistic(items_base=frozenset(), items_add=frozenset({4}), confidence=0.2222222222222222, lift=1.0)]),\n",
       " RelationRecord(items=frozenset({5}), support=0.2222222222222222, ordered_statistics=[OrderedStatistic(items_base=frozenset(), items_add=frozenset({5}), confidence=0.2222222222222222, lift=1.0)]),\n",
       " RelationRecord(items=frozenset({1, 2}), support=0.4444444444444444, ordered_statistics=[OrderedStatistic(items_base=frozenset({1}), items_add=frozenset({2}), confidence=0.6666666666666666, lift=0.8571428571428571), OrderedStatistic(items_base=frozenset({2}), items_add=frozenset({1}), confidence=0.5714285714285714, lift=0.8571428571428571)]),\n",
       " RelationRecord(items=frozenset({1, 3}), support=0.4444444444444444, ordered_statistics=[OrderedStatistic(items_base=frozenset({1}), items_add=frozenset({3}), confidence=0.6666666666666666, lift=1.0), OrderedStatistic(items_base=frozenset({3}), items_add=frozenset({1}), confidence=0.6666666666666666, lift=1.0)]),\n",
       " RelationRecord(items=frozenset({1, 4}), support=0.1111111111111111, ordered_statistics=[OrderedStatistic(items_base=frozenset({1}), items_add=frozenset({4}), confidence=0.16666666666666666, lift=0.75), OrderedStatistic(items_base=frozenset({4}), items_add=frozenset({1}), confidence=0.5, lift=0.75)]),\n",
       " RelationRecord(items=frozenset({1, 5}), support=0.2222222222222222, ordered_statistics=[OrderedStatistic(items_base=frozenset({1}), items_add=frozenset({5}), confidence=0.3333333333333333, lift=1.5), OrderedStatistic(items_base=frozenset({5}), items_add=frozenset({1}), confidence=1.0, lift=1.5)]),\n",
       " RelationRecord(items=frozenset({2, 3}), support=0.4444444444444444, ordered_statistics=[OrderedStatistic(items_base=frozenset({2}), items_add=frozenset({3}), confidence=0.5714285714285714, lift=0.8571428571428571), OrderedStatistic(items_base=frozenset({3}), items_add=frozenset({2}), confidence=0.6666666666666666, lift=0.8571428571428571)]),\n",
       " RelationRecord(items=frozenset({2, 4}), support=0.2222222222222222, ordered_statistics=[OrderedStatistic(items_base=frozenset({2}), items_add=frozenset({4}), confidence=0.2857142857142857, lift=1.2857142857142858), OrderedStatistic(items_base=frozenset({4}), items_add=frozenset({2}), confidence=1.0, lift=1.2857142857142856)]),\n",
       " RelationRecord(items=frozenset({2, 5}), support=0.2222222222222222, ordered_statistics=[OrderedStatistic(items_base=frozenset({2}), items_add=frozenset({5}), confidence=0.2857142857142857, lift=1.2857142857142858), OrderedStatistic(items_base=frozenset({5}), items_add=frozenset({2}), confidence=1.0, lift=1.2857142857142856)]),\n",
       " RelationRecord(items=frozenset({3, 5}), support=0.1111111111111111, ordered_statistics=[OrderedStatistic(items_base=frozenset({3}), items_add=frozenset({5}), confidence=0.16666666666666666, lift=0.75), OrderedStatistic(items_base=frozenset({5}), items_add=frozenset({3}), confidence=0.5, lift=0.75)]),\n",
       " RelationRecord(items=frozenset({1, 2, 3}), support=0.2222222222222222, ordered_statistics=[OrderedStatistic(items_base=frozenset({1, 2}), items_add=frozenset({3}), confidence=0.5, lift=0.75), OrderedStatistic(items_base=frozenset({1, 3}), items_add=frozenset({2}), confidence=0.5, lift=0.6428571428571428), OrderedStatistic(items_base=frozenset({2, 3}), items_add=frozenset({1}), confidence=0.5, lift=0.75)]),\n",
       " RelationRecord(items=frozenset({1, 2, 4}), support=0.1111111111111111, ordered_statistics=[OrderedStatistic(items_base=frozenset({1, 2}), items_add=frozenset({4}), confidence=0.25, lift=1.125), OrderedStatistic(items_base=frozenset({1, 4}), items_add=frozenset({2}), confidence=1.0, lift=1.2857142857142856), OrderedStatistic(items_base=frozenset({2, 4}), items_add=frozenset({1}), confidence=0.5, lift=0.75)]),\n",
       " RelationRecord(items=frozenset({1, 2, 5}), support=0.2222222222222222, ordered_statistics=[OrderedStatistic(items_base=frozenset({1, 2}), items_add=frozenset({5}), confidence=0.5, lift=2.25), OrderedStatistic(items_base=frozenset({1, 5}), items_add=frozenset({2}), confidence=1.0, lift=1.2857142857142856), OrderedStatistic(items_base=frozenset({2, 5}), items_add=frozenset({1}), confidence=1.0, lift=1.5)]),\n",
       " RelationRecord(items=frozenset({1, 3, 5}), support=0.1111111111111111, ordered_statistics=[OrderedStatistic(items_base=frozenset({1, 3}), items_add=frozenset({5}), confidence=0.25, lift=1.125), OrderedStatistic(items_base=frozenset({1, 5}), items_add=frozenset({3}), confidence=0.5, lift=0.75), OrderedStatistic(items_base=frozenset({3, 5}), items_add=frozenset({1}), confidence=1.0, lift=1.5)]),\n",
       " RelationRecord(items=frozenset({2, 3, 5}), support=0.1111111111111111, ordered_statistics=[OrderedStatistic(items_base=frozenset({2, 3}), items_add=frozenset({5}), confidence=0.25, lift=1.125), OrderedStatistic(items_base=frozenset({2, 5}), items_add=frozenset({3}), confidence=0.5, lift=0.75), OrderedStatistic(items_base=frozenset({3, 5}), items_add=frozenset({2}), confidence=1.0, lift=1.2857142857142856)]),\n",
       " RelationRecord(items=frozenset({1, 2, 3, 5}), support=0.1111111111111111, ordered_statistics=[OrderedStatistic(items_base=frozenset({1, 2, 3}), items_add=frozenset({5}), confidence=0.5, lift=2.25), OrderedStatistic(items_base=frozenset({1, 2, 5}), items_add=frozenset({3}), confidence=0.5, lift=0.75), OrderedStatistic(items_base=frozenset({1, 3, 5}), items_add=frozenset({2}), confidence=1.0, lift=1.2857142857142856), OrderedStatistic(items_base=frozenset({2, 3, 5}), items_add=frozenset({1}), confidence=1.0, lift=1.5)])]"
      ]
     },
     "execution_count": 4,
     "metadata": {},
     "output_type": "execute_result"
    }
   ],
   "source": [
    "results"
   ]
  },
  {
   "cell_type": "code",
   "execution_count": 22,
   "metadata": {},
   "outputs": [],
   "source": [
    "patterns = pyfpgrowth.find_frequent_patterns(transactions, 2)\n",
    "rules = pyfpgrowth.generate_association_rules(patterns, 0.7)"
   ]
  },
  {
   "cell_type": "code",
   "execution_count": 23,
   "metadata": {},
   "outputs": [
    {
     "data": {
      "text/plain": [
       "{(1, 5): ((2,), 1.0),\n",
       " (2, 5): ((1,), 1.0),\n",
       " (4,): ((2,), 1.0),\n",
       " (5,): ((1, 2), 1.0)}"
      ]
     },
     "execution_count": 23,
     "metadata": {},
     "output_type": "execute_result"
    }
   ],
   "source": [
    "rules"
   ]
  },
  {
   "cell_type": "code",
   "execution_count": 1,
   "metadata": {},
   "outputs": [
    {
     "ename": "NameError",
     "evalue": "name 'patterns' is not defined",
     "output_type": "error",
     "traceback": [
      "\u001b[1;31m---------------------------------------------------------------------------\u001b[0m",
      "\u001b[1;31mNameError\u001b[0m                                 Traceback (most recent call last)",
      "\u001b[1;32m<ipython-input-1-e8c06e336e0d>\u001b[0m in \u001b[0;36m<module>\u001b[1;34m()\u001b[0m\n\u001b[1;32m----> 1\u001b[1;33m \u001b[0mpatterns\u001b[0m\u001b[1;33m\u001b[0m\u001b[0m\n\u001b[0m",
      "\u001b[1;31mNameError\u001b[0m: name 'patterns' is not defined"
     ]
    }
   ],
   "source": [
    "patterns"
   ]
  },
  {
   "cell_type": "markdown",
   "metadata": {},
   "source": [
    "# 결과비교\n",
    "## Apriori\n",
    "|item1|item2|support|confidence|lift|\n",
    "|-|-|-|-|-|\n",
    "|1|2|0.44444444|0.66666667|0.85714286|\n",
    "|2|1|0.44444444|0.57142857|0.85714286|\n",
    "|1|3|0.44444444|0.66666667|1.00000000|\n",
    "|3|1|0.44444444|0.66666667|1.00000000|\n",
    "|4|1|0.11111111|0.50000000|0.75000000|\n",
    "|5|1|0.22222222|1.00000000|1.50000000|\n",
    "|2|3|0.44444444|0.57142857|0.85714286|\n",
    "|3|2|0.44444444|0.66666667|0.85714286|\n",
    "|4|2|0.22222222|1.00000000|1.28571429|\n",
    "|5|2|0.22222222|1.00000000|1.28571429|\n",
    "|5|3|0.11111111|0.50000000|0.75000000|\n",
    "## FPgrowth\n",
    "* Minsupport = 2\n",
    "* Minconficence = 0.7\n",
    "\n",
    "|ancedent|consequence|confidence|\n",
    "|-|-|-|\n",
    "|1, 5|2    |1.0|\n",
    "|2, 5|1    |1.0|\n",
    "|4   |2    |1.0|\n",
    "|5   |1, 2 |1.0|"
   ]
  },
  {
   "cell_type": "markdown",
   "metadata": {},
   "source": [
    "# Test 2"
   ]
  },
  {
   "cell_type": "code",
   "execution_count": 23,
   "metadata": {},
   "outputs": [],
   "source": [
    "transaction2 = [['Beer', 'Nuts', 'Diaper'],\n",
    "                ['Beer', 'Coffee', 'Diaper'],\n",
    "                ['Beer', 'Diaper', 'Eggs'],\n",
    "                ['Nuts', 'Eggs', 'Milk'],\n",
    "                ['Nuts', 'Coffee', 'Diaper', 'Eggs', 'Milk'],\n",
    "                ['Coffee','Milk']]"
   ]
  },
  {
   "cell_type": "code",
   "execution_count": 24,
   "metadata": {},
   "outputs": [],
   "source": [
    "results = list(apriori(transaction2))"
   ]
  },
  {
   "cell_type": "code",
   "execution_count": 25,
   "metadata": {},
   "outputs": [
    {
     "data": {
      "text/plain": [
       "[RelationRecord(items=frozenset({'Beer'}), support=0.5, ordered_statistics=[OrderedStatistic(items_base=frozenset(), items_add=frozenset({'Beer'}), confidence=0.5, lift=1.0)]),\n",
       " RelationRecord(items=frozenset({'Coffee'}), support=0.5, ordered_statistics=[OrderedStatistic(items_base=frozenset(), items_add=frozenset({'Coffee'}), confidence=0.5, lift=1.0)]),\n",
       " RelationRecord(items=frozenset({'Diaper'}), support=0.6666666666666666, ordered_statistics=[OrderedStatistic(items_base=frozenset(), items_add=frozenset({'Diaper'}), confidence=0.6666666666666666, lift=1.0)]),\n",
       " RelationRecord(items=frozenset({'Eggs'}), support=0.5, ordered_statistics=[OrderedStatistic(items_base=frozenset(), items_add=frozenset({'Eggs'}), confidence=0.5, lift=1.0)]),\n",
       " RelationRecord(items=frozenset({'Milk'}), support=0.5, ordered_statistics=[OrderedStatistic(items_base=frozenset(), items_add=frozenset({'Milk'}), confidence=0.5, lift=1.0)]),\n",
       " RelationRecord(items=frozenset({'Nuts'}), support=0.5, ordered_statistics=[OrderedStatistic(items_base=frozenset(), items_add=frozenset({'Nuts'}), confidence=0.5, lift=1.0)]),\n",
       " RelationRecord(items=frozenset({'Coffee', 'Beer'}), support=0.16666666666666666, ordered_statistics=[OrderedStatistic(items_base=frozenset({'Beer'}), items_add=frozenset({'Coffee'}), confidence=0.3333333333333333, lift=0.6666666666666666), OrderedStatistic(items_base=frozenset({'Coffee'}), items_add=frozenset({'Beer'}), confidence=0.3333333333333333, lift=0.6666666666666666)]),\n",
       " RelationRecord(items=frozenset({'Beer', 'Diaper'}), support=0.5, ordered_statistics=[OrderedStatistic(items_base=frozenset({'Beer'}), items_add=frozenset({'Diaper'}), confidence=1.0, lift=1.5), OrderedStatistic(items_base=frozenset({'Diaper'}), items_add=frozenset({'Beer'}), confidence=0.75, lift=1.5)]),\n",
       " RelationRecord(items=frozenset({'Eggs', 'Beer'}), support=0.16666666666666666, ordered_statistics=[OrderedStatistic(items_base=frozenset({'Beer'}), items_add=frozenset({'Eggs'}), confidence=0.3333333333333333, lift=0.6666666666666666), OrderedStatistic(items_base=frozenset({'Eggs'}), items_add=frozenset({'Beer'}), confidence=0.3333333333333333, lift=0.6666666666666666)]),\n",
       " RelationRecord(items=frozenset({'Nuts', 'Beer'}), support=0.16666666666666666, ordered_statistics=[OrderedStatistic(items_base=frozenset({'Beer'}), items_add=frozenset({'Nuts'}), confidence=0.3333333333333333, lift=0.6666666666666666), OrderedStatistic(items_base=frozenset({'Nuts'}), items_add=frozenset({'Beer'}), confidence=0.3333333333333333, lift=0.6666666666666666)]),\n",
       " RelationRecord(items=frozenset({'Coffee', 'Diaper'}), support=0.3333333333333333, ordered_statistics=[OrderedStatistic(items_base=frozenset({'Coffee'}), items_add=frozenset({'Diaper'}), confidence=0.6666666666666666, lift=1.0), OrderedStatistic(items_base=frozenset({'Diaper'}), items_add=frozenset({'Coffee'}), confidence=0.5, lift=1.0)]),\n",
       " RelationRecord(items=frozenset({'Eggs', 'Coffee'}), support=0.16666666666666666, ordered_statistics=[OrderedStatistic(items_base=frozenset({'Coffee'}), items_add=frozenset({'Eggs'}), confidence=0.3333333333333333, lift=0.6666666666666666), OrderedStatistic(items_base=frozenset({'Eggs'}), items_add=frozenset({'Coffee'}), confidence=0.3333333333333333, lift=0.6666666666666666)]),\n",
       " RelationRecord(items=frozenset({'Coffee', 'Milk'}), support=0.3333333333333333, ordered_statistics=[OrderedStatistic(items_base=frozenset({'Coffee'}), items_add=frozenset({'Milk'}), confidence=0.6666666666666666, lift=1.3333333333333333), OrderedStatistic(items_base=frozenset({'Milk'}), items_add=frozenset({'Coffee'}), confidence=0.6666666666666666, lift=1.3333333333333333)]),\n",
       " RelationRecord(items=frozenset({'Coffee', 'Nuts'}), support=0.16666666666666666, ordered_statistics=[OrderedStatistic(items_base=frozenset({'Coffee'}), items_add=frozenset({'Nuts'}), confidence=0.3333333333333333, lift=0.6666666666666666), OrderedStatistic(items_base=frozenset({'Nuts'}), items_add=frozenset({'Coffee'}), confidence=0.3333333333333333, lift=0.6666666666666666)]),\n",
       " RelationRecord(items=frozenset({'Eggs', 'Diaper'}), support=0.3333333333333333, ordered_statistics=[OrderedStatistic(items_base=frozenset({'Diaper'}), items_add=frozenset({'Eggs'}), confidence=0.5, lift=1.0), OrderedStatistic(items_base=frozenset({'Eggs'}), items_add=frozenset({'Diaper'}), confidence=0.6666666666666666, lift=1.0)]),\n",
       " RelationRecord(items=frozenset({'Milk', 'Diaper'}), support=0.16666666666666666, ordered_statistics=[OrderedStatistic(items_base=frozenset({'Diaper'}), items_add=frozenset({'Milk'}), confidence=0.25, lift=0.5), OrderedStatistic(items_base=frozenset({'Milk'}), items_add=frozenset({'Diaper'}), confidence=0.3333333333333333, lift=0.5)]),\n",
       " RelationRecord(items=frozenset({'Nuts', 'Diaper'}), support=0.3333333333333333, ordered_statistics=[OrderedStatistic(items_base=frozenset({'Diaper'}), items_add=frozenset({'Nuts'}), confidence=0.5, lift=1.0), OrderedStatistic(items_base=frozenset({'Nuts'}), items_add=frozenset({'Diaper'}), confidence=0.6666666666666666, lift=1.0)]),\n",
       " RelationRecord(items=frozenset({'Eggs', 'Milk'}), support=0.3333333333333333, ordered_statistics=[OrderedStatistic(items_base=frozenset({'Eggs'}), items_add=frozenset({'Milk'}), confidence=0.6666666666666666, lift=1.3333333333333333), OrderedStatistic(items_base=frozenset({'Milk'}), items_add=frozenset({'Eggs'}), confidence=0.6666666666666666, lift=1.3333333333333333)]),\n",
       " RelationRecord(items=frozenset({'Eggs', 'Nuts'}), support=0.3333333333333333, ordered_statistics=[OrderedStatistic(items_base=frozenset({'Eggs'}), items_add=frozenset({'Nuts'}), confidence=0.6666666666666666, lift=1.3333333333333333), OrderedStatistic(items_base=frozenset({'Nuts'}), items_add=frozenset({'Eggs'}), confidence=0.6666666666666666, lift=1.3333333333333333)]),\n",
       " RelationRecord(items=frozenset({'Nuts', 'Milk'}), support=0.3333333333333333, ordered_statistics=[OrderedStatistic(items_base=frozenset({'Milk'}), items_add=frozenset({'Nuts'}), confidence=0.6666666666666666, lift=1.3333333333333333), OrderedStatistic(items_base=frozenset({'Nuts'}), items_add=frozenset({'Milk'}), confidence=0.6666666666666666, lift=1.3333333333333333)]),\n",
       " RelationRecord(items=frozenset({'Coffee', 'Beer', 'Diaper'}), support=0.16666666666666666, ordered_statistics=[OrderedStatistic(items_base=frozenset({'Coffee', 'Beer'}), items_add=frozenset({'Diaper'}), confidence=1.0, lift=1.5), OrderedStatistic(items_base=frozenset({'Beer', 'Diaper'}), items_add=frozenset({'Coffee'}), confidence=0.3333333333333333, lift=0.6666666666666666), OrderedStatistic(items_base=frozenset({'Coffee', 'Diaper'}), items_add=frozenset({'Beer'}), confidence=0.5, lift=1.0)]),\n",
       " RelationRecord(items=frozenset({'Eggs', 'Beer', 'Diaper'}), support=0.16666666666666666, ordered_statistics=[OrderedStatistic(items_base=frozenset({'Beer', 'Diaper'}), items_add=frozenset({'Eggs'}), confidence=0.3333333333333333, lift=0.6666666666666666), OrderedStatistic(items_base=frozenset({'Eggs', 'Beer'}), items_add=frozenset({'Diaper'}), confidence=1.0, lift=1.5), OrderedStatistic(items_base=frozenset({'Eggs', 'Diaper'}), items_add=frozenset({'Beer'}), confidence=0.5, lift=1.0)]),\n",
       " RelationRecord(items=frozenset({'Nuts', 'Beer', 'Diaper'}), support=0.16666666666666666, ordered_statistics=[OrderedStatistic(items_base=frozenset({'Beer', 'Diaper'}), items_add=frozenset({'Nuts'}), confidence=0.3333333333333333, lift=0.6666666666666666), OrderedStatistic(items_base=frozenset({'Nuts', 'Beer'}), items_add=frozenset({'Diaper'}), confidence=1.0, lift=1.5), OrderedStatistic(items_base=frozenset({'Nuts', 'Diaper'}), items_add=frozenset({'Beer'}), confidence=0.5, lift=1.0)]),\n",
       " RelationRecord(items=frozenset({'Eggs', 'Coffee', 'Diaper'}), support=0.16666666666666666, ordered_statistics=[OrderedStatistic(items_base=frozenset({'Coffee', 'Diaper'}), items_add=frozenset({'Eggs'}), confidence=0.5, lift=1.0), OrderedStatistic(items_base=frozenset({'Eggs', 'Coffee'}), items_add=frozenset({'Diaper'}), confidence=1.0, lift=1.5), OrderedStatistic(items_base=frozenset({'Eggs', 'Diaper'}), items_add=frozenset({'Coffee'}), confidence=0.5, lift=1.0)]),\n",
       " RelationRecord(items=frozenset({'Milk', 'Coffee', 'Diaper'}), support=0.16666666666666666, ordered_statistics=[OrderedStatistic(items_base=frozenset({'Coffee', 'Diaper'}), items_add=frozenset({'Milk'}), confidence=0.5, lift=1.0), OrderedStatistic(items_base=frozenset({'Coffee', 'Milk'}), items_add=frozenset({'Diaper'}), confidence=0.5, lift=0.75), OrderedStatistic(items_base=frozenset({'Milk', 'Diaper'}), items_add=frozenset({'Coffee'}), confidence=1.0, lift=2.0)]),\n",
       " RelationRecord(items=frozenset({'Coffee', 'Nuts', 'Diaper'}), support=0.16666666666666666, ordered_statistics=[OrderedStatistic(items_base=frozenset({'Coffee', 'Diaper'}), items_add=frozenset({'Nuts'}), confidence=0.5, lift=1.0), OrderedStatistic(items_base=frozenset({'Coffee', 'Nuts'}), items_add=frozenset({'Diaper'}), confidence=1.0, lift=1.5), OrderedStatistic(items_base=frozenset({'Nuts', 'Diaper'}), items_add=frozenset({'Coffee'}), confidence=0.5, lift=1.0)]),\n",
       " RelationRecord(items=frozenset({'Eggs', 'Coffee', 'Milk'}), support=0.16666666666666666, ordered_statistics=[OrderedStatistic(items_base=frozenset({'Eggs', 'Coffee'}), items_add=frozenset({'Milk'}), confidence=1.0, lift=2.0), OrderedStatistic(items_base=frozenset({'Coffee', 'Milk'}), items_add=frozenset({'Eggs'}), confidence=0.5, lift=1.0), OrderedStatistic(items_base=frozenset({'Eggs', 'Milk'}), items_add=frozenset({'Coffee'}), confidence=0.5, lift=1.0)]),\n",
       " RelationRecord(items=frozenset({'Eggs', 'Coffee', 'Nuts'}), support=0.16666666666666666, ordered_statistics=[OrderedStatistic(items_base=frozenset({'Eggs', 'Coffee'}), items_add=frozenset({'Nuts'}), confidence=1.0, lift=2.0), OrderedStatistic(items_base=frozenset({'Coffee', 'Nuts'}), items_add=frozenset({'Eggs'}), confidence=1.0, lift=2.0), OrderedStatistic(items_base=frozenset({'Eggs', 'Nuts'}), items_add=frozenset({'Coffee'}), confidence=0.5, lift=1.0)]),\n",
       " RelationRecord(items=frozenset({'Coffee', 'Nuts', 'Milk'}), support=0.16666666666666666, ordered_statistics=[OrderedStatistic(items_base=frozenset({'Coffee', 'Milk'}), items_add=frozenset({'Nuts'}), confidence=0.5, lift=1.0), OrderedStatistic(items_base=frozenset({'Coffee', 'Nuts'}), items_add=frozenset({'Milk'}), confidence=1.0, lift=2.0), OrderedStatistic(items_base=frozenset({'Nuts', 'Milk'}), items_add=frozenset({'Coffee'}), confidence=0.5, lift=1.0)]),\n",
       " RelationRecord(items=frozenset({'Eggs', 'Milk', 'Diaper'}), support=0.16666666666666666, ordered_statistics=[OrderedStatistic(items_base=frozenset({'Eggs', 'Diaper'}), items_add=frozenset({'Milk'}), confidence=0.5, lift=1.0), OrderedStatistic(items_base=frozenset({'Milk', 'Diaper'}), items_add=frozenset({'Eggs'}), confidence=1.0, lift=2.0), OrderedStatistic(items_base=frozenset({'Eggs', 'Milk'}), items_add=frozenset({'Diaper'}), confidence=0.5, lift=0.75)]),\n",
       " RelationRecord(items=frozenset({'Eggs', 'Nuts', 'Diaper'}), support=0.16666666666666666, ordered_statistics=[OrderedStatistic(items_base=frozenset({'Eggs', 'Diaper'}), items_add=frozenset({'Nuts'}), confidence=0.5, lift=1.0), OrderedStatistic(items_base=frozenset({'Nuts', 'Diaper'}), items_add=frozenset({'Eggs'}), confidence=0.5, lift=1.0), OrderedStatistic(items_base=frozenset({'Eggs', 'Nuts'}), items_add=frozenset({'Diaper'}), confidence=0.5, lift=0.75)]),\n",
       " RelationRecord(items=frozenset({'Milk', 'Nuts', 'Diaper'}), support=0.16666666666666666, ordered_statistics=[OrderedStatistic(items_base=frozenset({'Milk', 'Diaper'}), items_add=frozenset({'Nuts'}), confidence=1.0, lift=2.0), OrderedStatistic(items_base=frozenset({'Nuts', 'Diaper'}), items_add=frozenset({'Milk'}), confidence=0.5, lift=1.0), OrderedStatistic(items_base=frozenset({'Nuts', 'Milk'}), items_add=frozenset({'Diaper'}), confidence=0.5, lift=0.75)]),\n",
       " RelationRecord(items=frozenset({'Eggs', 'Nuts', 'Milk'}), support=0.3333333333333333, ordered_statistics=[OrderedStatistic(items_base=frozenset({'Eggs', 'Milk'}), items_add=frozenset({'Nuts'}), confidence=1.0, lift=2.0), OrderedStatistic(items_base=frozenset({'Eggs', 'Nuts'}), items_add=frozenset({'Milk'}), confidence=1.0, lift=2.0), OrderedStatistic(items_base=frozenset({'Nuts', 'Milk'}), items_add=frozenset({'Eggs'}), confidence=1.0, lift=2.0)]),\n",
       " RelationRecord(items=frozenset({'Milk', 'Eggs', 'Coffee', 'Diaper'}), support=0.16666666666666666, ordered_statistics=[OrderedStatistic(items_base=frozenset({'Eggs', 'Coffee', 'Diaper'}), items_add=frozenset({'Milk'}), confidence=1.0, lift=2.0), OrderedStatistic(items_base=frozenset({'Milk', 'Coffee', 'Diaper'}), items_add=frozenset({'Eggs'}), confidence=1.0, lift=2.0), OrderedStatistic(items_base=frozenset({'Eggs', 'Coffee', 'Milk'}), items_add=frozenset({'Diaper'}), confidence=1.0, lift=1.5), OrderedStatistic(items_base=frozenset({'Eggs', 'Milk', 'Diaper'}), items_add=frozenset({'Coffee'}), confidence=1.0, lift=2.0)]),\n",
       " RelationRecord(items=frozenset({'Eggs', 'Coffee', 'Nuts', 'Diaper'}), support=0.16666666666666666, ordered_statistics=[OrderedStatistic(items_base=frozenset({'Eggs', 'Coffee', 'Diaper'}), items_add=frozenset({'Nuts'}), confidence=1.0, lift=2.0), OrderedStatistic(items_base=frozenset({'Coffee', 'Nuts', 'Diaper'}), items_add=frozenset({'Eggs'}), confidence=1.0, lift=2.0), OrderedStatistic(items_base=frozenset({'Eggs', 'Coffee', 'Nuts'}), items_add=frozenset({'Diaper'}), confidence=1.0, lift=1.5), OrderedStatistic(items_base=frozenset({'Eggs', 'Nuts', 'Diaper'}), items_add=frozenset({'Coffee'}), confidence=1.0, lift=2.0)]),\n",
       " RelationRecord(items=frozenset({'Milk', 'Coffee', 'Nuts', 'Diaper'}), support=0.16666666666666666, ordered_statistics=[OrderedStatistic(items_base=frozenset({'Milk', 'Coffee', 'Diaper'}), items_add=frozenset({'Nuts'}), confidence=1.0, lift=2.0), OrderedStatistic(items_base=frozenset({'Coffee', 'Nuts', 'Diaper'}), items_add=frozenset({'Milk'}), confidence=1.0, lift=2.0), OrderedStatistic(items_base=frozenset({'Coffee', 'Nuts', 'Milk'}), items_add=frozenset({'Diaper'}), confidence=1.0, lift=1.5), OrderedStatistic(items_base=frozenset({'Milk', 'Nuts', 'Diaper'}), items_add=frozenset({'Coffee'}), confidence=1.0, lift=2.0)]),\n",
       " RelationRecord(items=frozenset({'Eggs', 'Coffee', 'Nuts', 'Milk'}), support=0.16666666666666666, ordered_statistics=[OrderedStatistic(items_base=frozenset({'Eggs', 'Coffee', 'Milk'}), items_add=frozenset({'Nuts'}), confidence=1.0, lift=2.0), OrderedStatistic(items_base=frozenset({'Eggs', 'Coffee', 'Nuts'}), items_add=frozenset({'Milk'}), confidence=1.0, lift=2.0), OrderedStatistic(items_base=frozenset({'Coffee', 'Nuts', 'Milk'}), items_add=frozenset({'Eggs'}), confidence=1.0, lift=2.0), OrderedStatistic(items_base=frozenset({'Eggs', 'Nuts', 'Milk'}), items_add=frozenset({'Coffee'}), confidence=0.5, lift=1.0)]),\n",
       " RelationRecord(items=frozenset({'Eggs', 'Milk', 'Nuts', 'Diaper'}), support=0.16666666666666666, ordered_statistics=[OrderedStatistic(items_base=frozenset({'Eggs', 'Milk', 'Diaper'}), items_add=frozenset({'Nuts'}), confidence=1.0, lift=2.0), OrderedStatistic(items_base=frozenset({'Eggs', 'Nuts', 'Diaper'}), items_add=frozenset({'Milk'}), confidence=1.0, lift=2.0), OrderedStatistic(items_base=frozenset({'Milk', 'Nuts', 'Diaper'}), items_add=frozenset({'Eggs'}), confidence=1.0, lift=2.0), OrderedStatistic(items_base=frozenset({'Eggs', 'Nuts', 'Milk'}), items_add=frozenset({'Diaper'}), confidence=0.5, lift=0.75)]),\n",
       " RelationRecord(items=frozenset({'Diaper', 'Nuts', 'Milk', 'Eggs', 'Coffee'}), support=0.16666666666666666, ordered_statistics=[OrderedStatistic(items_base=frozenset({'Milk', 'Eggs', 'Coffee', 'Diaper'}), items_add=frozenset({'Nuts'}), confidence=1.0, lift=2.0), OrderedStatistic(items_base=frozenset({'Eggs', 'Coffee', 'Nuts', 'Diaper'}), items_add=frozenset({'Milk'}), confidence=1.0, lift=2.0), OrderedStatistic(items_base=frozenset({'Milk', 'Coffee', 'Nuts', 'Diaper'}), items_add=frozenset({'Eggs'}), confidence=1.0, lift=2.0), OrderedStatistic(items_base=frozenset({'Eggs', 'Coffee', 'Nuts', 'Milk'}), items_add=frozenset({'Diaper'}), confidence=1.0, lift=1.5), OrderedStatistic(items_base=frozenset({'Eggs', 'Milk', 'Nuts', 'Diaper'}), items_add=frozenset({'Coffee'}), confidence=1.0, lift=2.0)])]"
      ]
     },
     "execution_count": 25,
     "metadata": {},
     "output_type": "execute_result"
    }
   ],
   "source": [
    "results"
   ]
  },
  {
   "cell_type": "code",
   "execution_count": 28,
   "metadata": {},
   "outputs": [],
   "source": [
    "patterns2 = pyfpgrowth.find_frequent_patterns(transaction2, 2)\n",
    "rules2 = pyfpgrowth.generate_association_rules(patterns2, 0.5)"
   ]
  },
  {
   "cell_type": "code",
   "execution_count": 29,
   "metadata": {},
   "outputs": [
    {
     "data": {
      "text/plain": [
       "{('Beer',): (('Diaper',), 1.0),\n",
       " ('Coffee',): (('Milk',), 0.6666666666666666),\n",
       " ('Diaper',): (('Eggs',), 0.5),\n",
       " ('Eggs', 'Milk'): (('Nuts',), 1.0),\n",
       " ('Eggs', 'Nuts'): (('Milk',), 1.0),\n",
       " ('Milk', 'Nuts'): (('Eggs',), 1.0),\n",
       " ('Nuts',): (('Eggs', 'Milk'), 0.6666666666666666)}"
      ]
     },
     "execution_count": 29,
     "metadata": {},
     "output_type": "execute_result"
    }
   ],
   "source": [
    "rules2"
   ]
  },
  {
   "cell_type": "markdown",
   "metadata": {},
   "source": [
    "# result\n",
    "## apriori\n",
    "|item1|item2|support|confidence|lift|\n",
    "|-|-|-|-|-|\n",
    "|Beer|Diaper|0.50000000|1.00000000|1.50000000|\n",
    "|Diaper|Beer|0.50000000|0.75000000|1.50000000|\n",
    "|Coffee|Diaper|0.33333333|0.66666667|1.00000000|\n",
    "|Diaper|Coffee|0.33333333|0.50000000|1.00000000|\n",
    "|Coffee|Milk|0.33333333|0.66666667|1.33333333|\n",
    "|Milk|Coffee|0.33333333|0.66666667|1.33333333|\n",
    "|Diaper|Eggs|0.33333333|0.50000000|1.00000000|\n",
    "|Eggs|Diaper|0.33333333|0.66666667|1.00000000|\n",
    "|Diaper|Nuts|0.33333333|0.50000000|1.00000000|\n",
    "|Nuts|Diaper|0.33333333|0.66666667|1.00000000|\n",
    "|Eggs|Milk|0.33333333|0.66666667|1.33333333|\n",
    "|Milk|Eggs|0.33333333|0.66666667|1.33333333|\n",
    "|Eggs|Nuts|0.33333333|0.66666667|1.33333333|\n",
    "|Nuts|Eggs|0.33333333|0.66666667|1.33333333|\n",
    "|Milk|Nuts|0.33333333|0.66666667|1.33333333|\n",
    "|Nuts|Milk|0.33333333|0.66666667|1.33333333|\n",
    "## FPgrowth\n",
    "|item1|item2|confidence|\n",
    "|-|-|-|\n",
    "|Beer|Diaper|1.0|\n",
    "|Coffee|Milk|0.6666666666666666|\n",
    "|Diaper|Eggs|0.5|\n",
    "|Eggs,Milk|Nuts|1.0|\n",
    "|Eggs,Nuts|Milk|1.0|\n",
    "|Milk,Nuts|Eggs|1.0|\n",
    "|Nuts|Eggs,Milk|0.6666666666666666|"
   ]
  },
  {
   "cell_type": "code",
   "execution_count": null,
   "metadata": {},
   "outputs": [],
   "source": []
  }
 ],
 "metadata": {
  "kernelspec": {
   "display_name": "Python 3",
   "language": "python",
   "name": "python3"
  },
  "language_info": {
   "codemirror_mode": {
    "name": "ipython",
    "version": 3
   },
   "file_extension": ".py",
   "mimetype": "text/x-python",
   "name": "python",
   "nbconvert_exporter": "python",
   "pygments_lexer": "ipython3",
   "version": "3.6.4"
  }
 },
 "nbformat": 4,
 "nbformat_minor": 2
}
